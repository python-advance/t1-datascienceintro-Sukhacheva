{
  "cells": [
    {
      "metadata": {},
      "cell_type": "markdown",
      "source": "# Лабораторная работа 5. Линейная регрессия\n\n## Замечание по настройке проекта\n\nРекомендуется использовать для работы по этому и дальнейшим заданиям виртуальное окружение с помощью virtualenv.\n\nПеречислим шаги, которые необходимо для этого выполнить:\n\n1. Обновить или установить pip (инструкция: https://pip.pypa.io/en/latest/installing/)\n1. Установить или обновить с помощью pip инструмент virtualenv (инструкция: https://virtualenv.pypa.io/en/latest/installation/)\n1. Активировать виртуальное окружение (virtualenv ENV, где ENV название виртуального окружения). Разумеется, предварительно для проекта должен быть создан каталог (инструкция: https://virtualenv.pypa.io/en/latest/userguide/)\n1. Установить в активированном виртуальном окружении необходимые пакеты. Для данного задания нам потребуется:\n- pandas\n- matplotlib\n- scipy\n- ipython (можно не устанавливать)\n\nЕсли невозможно / не хочется устанавливать дополнительные модули, то рекомендуется воспользоваться сервисом от Microsoft: https://dev.to/shwars/8-reasons-you-absolutely-need-to-use-azure-notebooks-3512?ocid=AID2441443_FACEBOOK_oo_spl100001138695546 \n\nСам сервис расположен по ссылке: https://notebooks.azure.com/?WT.mc_id=devto-blog-dmitryso\n\n\n\n\n"
    },
    {
      "metadata": {},
      "cell_type": "markdown",
      "source": "## Алгоритм выполнения лабораторной работы\n\n1. Загрузить данные (```ex1data.csv```) из csv-файла в скрипт с помощью метода read_csv модуля pandas.\n1. Используя метод plot или scatter, визуализируем данные, считанные из файла.\n2. Разберемся с объектом subplot и нарисуем на этом же графике линию, «соответствующую» данным, считанным из файла. Пусть эта будет линия, соответствующая графику функции ```y = 2*x-10```\n3. Используя метод polyfit из библиотеки scipy получите значения коэффициентов (аналогично было сделано в конспекте лекции) для модели линейной регрессии (степень полинома = 1)\n4. Предскажите значения целевого параметра при значениях x = [2.225, 17.5, 25].\n5. Еще раз визуализируйте графики из пункта 2, но дополнительно нанесите график с параметрами модели, полученными с помощью polyfit.\n\n\n\n\n"
    }
  ],
  "metadata": {
    "kernelspec": {
      "name": "python36",
      "display_name": "Python 3.6",
      "language": "python"
    },
    "language_info": {
      "mimetype": "text/x-python",
      "nbconvert_exporter": "python",
      "name": "python",
      "pygments_lexer": "ipython3",
      "version": "3.6.6",
      "file_extension": ".py",
      "codemirror_mode": {
        "version": 3,
        "name": "ipython"
      }
    }
  },
  "nbformat": 4,
  "nbformat_minor": 1
}